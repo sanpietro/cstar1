{
 "cells": [
  {
   "cell_type": "markdown",
   "metadata": {},
   "source": [
    "# Exploring_XYZ\n",
    "### XYZ Market is the leading apartments for rent marketplace in the nation. It provides advertisement and internet listing services for apartment communities. Apartment building managers list and advertise their properties on XYZ Market to fill their availabilities and reduce their vacancy rates/levels.\n",
    "\n",
    "### We will be analyzing a dataset that has information about multifamily apartment buildings."
   ]
  },
  {
   "cell_type": "markdown",
   "metadata": {},
   "source": [
    "### The data dictionary is as follows:\n",
    "\n",
    "• subscription_level: the subscription level the apartment building has signed up for. Higher levels provide better listing visibility and exposure. For example, Level5 provides more visibility than Level2 and so on.\n",
    "\n",
    "• sign_up_date: the date the apartment building signed up to advertise its property on XYZ Market.\n",
    "\n",
    "• building_type: the type of the building based on size and number of stories.\n",
    "\n",
    "• vacancy_level: a categorized measure of the vacancy of apartment building. Ideally, apartment\n",
    "building manageres would like to maintain a low vacancy level.\n",
    "\n",
    "• city_id: the id of the city the apartment building is located.\n",
    "\n",
    "• has_online_tour: whether the apartment provides online tour or not\n",
    "\n",
    "• photo_quality: the overall quality of photos the apartment has on its XYZ market listing.\n",
    "\n",
    "• lead_volume: a categorized measure of the amount of interested renters."
   ]
  },
  {
   "cell_type": "markdown",
   "metadata": {},
   "source": [
    "# Setup & Obtaining Our Data"
   ]
  },
  {
   "cell_type": "code",
   "execution_count": 1,
   "metadata": {},
   "outputs": [],
   "source": [
    "import os\n",
    "import pandas as pd\n",
    "import numpy as np\n",
    "import seaborn as sns\n",
    "import matplotlib.pyplot as plt\n",
    "import statsmodels.api as sm\n",
    "%matplotlib inline\n",
    "import warnings\n",
    "warnings.filterwarnings('ignore')\n",
    "pd.options.display.max_rows=11000"
   ]
  },
  {
   "cell_type": "code",
   "execution_count": 2,
   "metadata": {},
   "outputs": [
    {
     "data": {
      "text/html": [
       "<div>\n",
       "<style scoped>\n",
       "    .dataframe tbody tr th:only-of-type {\n",
       "        vertical-align: middle;\n",
       "    }\n",
       "\n",
       "    .dataframe tbody tr th {\n",
       "        vertical-align: top;\n",
       "    }\n",
       "\n",
       "    .dataframe thead th {\n",
       "        text-align: right;\n",
       "    }\n",
       "</style>\n",
       "<table border=\"1\" class=\"dataframe\">\n",
       "  <thead>\n",
       "    <tr style=\"text-align: right;\">\n",
       "      <th></th>\n",
       "      <th>subscription_level</th>\n",
       "      <th>sign_up_date</th>\n",
       "      <th>building_type</th>\n",
       "      <th>vacancy_level</th>\n",
       "      <th>city_id</th>\n",
       "      <th>has_online_tour</th>\n",
       "      <th>photo_quality</th>\n",
       "      <th>lead_volume</th>\n",
       "    </tr>\n",
       "  </thead>\n",
       "  <tbody>\n",
       "    <tr>\n",
       "      <th>0</th>\n",
       "      <td>Level4</td>\n",
       "      <td>7/24/16</td>\n",
       "      <td>low-rise</td>\n",
       "      <td>LOW</td>\n",
       "      <td>175</td>\n",
       "      <td>NaN</td>\n",
       "      <td>low</td>\n",
       "      <td>medium</td>\n",
       "    </tr>\n",
       "    <tr>\n",
       "      <th>1</th>\n",
       "      <td>Level9</td>\n",
       "      <td>12/23/18</td>\n",
       "      <td>low-rise</td>\n",
       "      <td>LOW</td>\n",
       "      <td>193</td>\n",
       "      <td>NaN</td>\n",
       "      <td>high</td>\n",
       "      <td>medium</td>\n",
       "    </tr>\n",
       "    <tr>\n",
       "      <th>2</th>\n",
       "      <td>Level1</td>\n",
       "      <td>12/2/16</td>\n",
       "      <td>low-rise</td>\n",
       "      <td>LOW</td>\n",
       "      <td>155</td>\n",
       "      <td>NaN</td>\n",
       "      <td>high</td>\n",
       "      <td>medium</td>\n",
       "    </tr>\n",
       "    <tr>\n",
       "      <th>3</th>\n",
       "      <td>Level4</td>\n",
       "      <td>9/3/17</td>\n",
       "      <td>low-rise</td>\n",
       "      <td>LOW</td>\n",
       "      <td>155</td>\n",
       "      <td>NaN</td>\n",
       "      <td>low</td>\n",
       "      <td>medium</td>\n",
       "    </tr>\n",
       "    <tr>\n",
       "      <th>4</th>\n",
       "      <td>Level2</td>\n",
       "      <td>7/29/16</td>\n",
       "      <td>low-rise</td>\n",
       "      <td>LOW</td>\n",
       "      <td>165</td>\n",
       "      <td>NaN</td>\n",
       "      <td>high</td>\n",
       "      <td>high</td>\n",
       "    </tr>\n",
       "  </tbody>\n",
       "</table>\n",
       "</div>"
      ],
      "text/plain": [
       "  subscription_level sign_up_date building_type vacancy_level  city_id  \\\n",
       "0             Level4      7/24/16      low-rise           LOW      175   \n",
       "1             Level9     12/23/18      low-rise           LOW      193   \n",
       "2             Level1      12/2/16      low-rise           LOW      155   \n",
       "3             Level4       9/3/17      low-rise           LOW      155   \n",
       "4             Level2      7/29/16      low-rise           LOW      165   \n",
       "\n",
       "  has_online_tour photo_quality lead_volume  \n",
       "0             NaN           low      medium  \n",
       "1             NaN          high      medium  \n",
       "2             NaN          high      medium  \n",
       "3             NaN           low      medium  \n",
       "4             NaN          high        high  "
      ]
     },
     "execution_count": 2,
     "metadata": {},
     "output_type": "execute_result"
    }
   ],
   "source": [
    "df = pd.read_csv('data.csv')\n",
    "df.head()"
   ]
  },
  {
   "cell_type": "code",
   "execution_count": 3,
   "metadata": {},
   "outputs": [
    {
     "name": "stdout",
     "output_type": "stream",
     "text": [
      "<class 'pandas.core.frame.DataFrame'>\n",
      "RangeIndex: 3500 entries, 0 to 3499\n",
      "Data columns (total 8 columns):\n",
      " #   Column              Non-Null Count  Dtype \n",
      "---  ------              --------------  ----- \n",
      " 0   subscription_level  3497 non-null   object\n",
      " 1   sign_up_date        3500 non-null   object\n",
      " 2   building_type       3500 non-null   object\n",
      " 3   vacancy_level       3500 non-null   object\n",
      " 4   city_id             3500 non-null   int64 \n",
      " 5   has_online_tour     690 non-null    object\n",
      " 6   photo_quality       3500 non-null   object\n",
      " 7   lead_volume         3500 non-null   object\n",
      "dtypes: int64(1), object(7)\n",
      "memory usage: 218.9+ KB\n"
     ]
    }
   ],
   "source": [
    "df.info()"
   ]
  },
  {
   "cell_type": "markdown",
   "metadata": {},
   "source": [
    "### First thing that stands out is that we are dealing with nearly all categorical features\n"
   ]
  },
  {
   "cell_type": "markdown",
   "metadata": {},
   "source": [
    " "
   ]
  },
  {
   "cell_type": "markdown",
   "metadata": {},
   "source": [
    "# Scrubbing The Data"
   ]
  },
  {
   "cell_type": "code",
   "execution_count": 4,
   "metadata": {
    "scrolled": true
   },
   "outputs": [
    {
     "data": {
      "text/plain": [
       "subscription_level       3\n",
       "sign_up_date             0\n",
       "building_type            0\n",
       "vacancy_level            0\n",
       "city_id                  0\n",
       "has_online_tour       2810\n",
       "photo_quality            0\n",
       "lead_volume              0\n",
       "dtype: int64"
      ]
     },
     "execution_count": 4,
     "metadata": {},
     "output_type": "execute_result"
    }
   ],
   "source": [
    "# Check for Null values\n",
    "\n",
    "df.isna().sum()"
   ]
  },
  {
   "cell_type": "code",
   "execution_count": 5,
   "metadata": {},
   "outputs": [
    {
     "data": {
      "text/plain": [
       "subscription_level     10\n",
       "sign_up_date          570\n",
       "building_type           3\n",
       "vacancy_level           2\n",
       "city_id                25\n",
       "has_online_tour         2\n",
       "photo_quality           2\n",
       "lead_volume             2\n",
       "dtype: int64"
      ]
     },
     "execution_count": 5,
     "metadata": {},
     "output_type": "execute_result"
    }
   ],
   "source": [
    "df.nunique(axis=0)"
   ]
  },
  {
   "cell_type": "code",
   "execution_count": 6,
   "metadata": {},
   "outputs": [
    {
     "name": "stdout",
     "output_type": "stream",
     "text": [
      "subscription_level\n",
      "['Level4' 'Level9' 'Level1' 'Level2' 'Level7' 'Level6' 'Level10' 'Level3'\n",
      " 'Level8' 'Level5' nan]\n",
      "sign_up_date\n",
      "['7/24/16' '12/23/18' '12/2/16' '9/3/17' '7/29/16' '5/26/17' '7/7/17'\n",
      " '2/27/18' '7/28/18' '2/4/17' '4/30/18' '3/26/18' '12/25/17' '11/28/17'\n",
      " '7/28/16' '10/31/17' '12/6/18' '2/2/18' '4/28/17' '3/24/17' '9/1/17'\n",
      " '6/23/18' '9/6/16' '12/31/17' '6/23/17' '12/29/17' '5/27/16' '9/6/17'\n",
      " '7/25/17' '11/2/18' '12/27/18' '7/31/16' '2/27/17' '1/3/17' '4/26/17'\n",
      " '5/27/17' '10/1/16' '11/1/16' '3/8/17' '7/30/18' '3/5/18' '3/23/17'\n",
      " '5/28/17' '9/3/18' '7/5/18' '11/4/16' '9/30/16' '9/27/17' '3/9/17'\n",
      " '4/23/17' '11/3/16' '12/26/17' '11/25/18' '6/30/18' '5/2/18' '11/24/18'\n",
      " '8/2/17' '10/28/16' '8/28/17' '2/26/17' '4/27/17' '4/4/18' '11/5/16'\n",
      " '11/3/17' '5/7/18' '12/2/17' '4/26/15' '10/24/16' '9/26/17' '12/29/16'\n",
      " '1/3/16' '10/26/16' '11/6/18' '1/25/17' '3/2/18' '10/24/17' '4/5/18'\n",
      " '2/2/17' '12/4/18' '1/28/17' '1/27/17' '9/4/16' '12/1/16' '8/26/16'\n",
      " '6/2/18' '3/30/17' '2/4/18' '7/3/18' '9/2/16' '7/4/17' '3/1/18' '8/23/17'\n",
      " '6/3/18' '11/23/18' '5/7/17' '1/23/18' '11/23/16' '5/5/17' '4/27/15'\n",
      " '3/25/17' '7/7/18' '3/2/17' '8/2/16' '9/29/16' '3/28/17' '8/30/16'\n",
      " '8/31/16' '2/28/18' '12/28/16' '10/4/18' '1/23/17' '10/7/16' '6/6/18'\n",
      " '2/6/18' '1/2/17' '8/25/17' '3/31/18' '5/4/17' '8/5/18' '7/7/16'\n",
      " '11/25/16' '10/28/18' '10/5/16' '12/3/17' '4/3/18' '7/1/18' '4/25/17'\n",
      " '6/28/18' '12/5/16' '10/1/18' '8/4/18' '11/1/18' '1/4/18' '7/2/18'\n",
      " '8/3/17' '11/29/17' '9/24/18' '5/3/17' '11/5/17' '7/1/17' '12/4/17'\n",
      " '5/24/18' '4/29/18' '10/25/16' '9/23/17' '7/28/17' '5/29/17' '5/23/17'\n",
      " '5/31/18' '11/29/16' '4/30/17' '1/4/19' '8/29/18' '12/27/16' '8/1/17'\n",
      " '1/30/17' '10/29/15' '11/1/17' '12/27/17' '12/2/18' '7/25/16' '3/7/18'\n",
      " '5/31/17' '10/25/17' '6/26/17' '2/5/17' '3/25/18' '3/27/17' '12/4/16'\n",
      " '11/27/18' '8/5/17' '6/4/18' '11/27/16' '11/28/16' '10/26/17' '8/25/16'\n",
      " '7/6/18' '4/24/17' '3/27/18' '4/2/17' '6/24/17' '10/2/16' '2/25/18'\n",
      " '6/6/14' '6/29/17' '2/25/17' '1/1/17' '7/31/18' '3/7/17' '1/4/17'\n",
      " '1/5/17' '7/25/18' '10/24/18' '1/3/18' '10/27/17' '6/5/17' '10/1/17'\n",
      " '8/31/17' '3/6/17' '1/31/17' '10/3/17' '8/29/17' '8/27/16' '5/25/18'\n",
      " '10/7/17' '9/27/18' '11/6/17' '6/3/19' '7/27/16' '9/2/18' '2/3/17'\n",
      " '9/4/17' '1/24/18' '12/28/17' '8/24/16' '10/29/17' '5/28/18' '12/6/17'\n",
      " '12/26/16' '5/30/17' '7/3/15' '5/6/17' '9/24/16' '7/26/18' '5/29/18'\n",
      " '1/26/15' '11/5/18' '8/24/17' '11/6/16' '5/6/18' '11/4/17' '8/3/16'\n",
      " '5/4/18' '10/23/17' '6/24/18' '7/4/18' '4/5/17' '9/5/16' '5/27/18'\n",
      " '6/6/17' '1/28/18' '10/27/16' '4/27/18' '6/5/18' '4/6/18' '4/1/17'\n",
      " '10/6/16' '10/4/17' '9/25/18' '10/28/17' '8/26/18' '9/1/16' '4/2/18'\n",
      " '6/29/18' '7/31/17' '2/5/18' '10/29/16' '4/29/17' '12/23/16' '4/5/19'\n",
      " '1/29/17' '11/24/17' '11/3/18' '9/5/18' '11/27/17' '9/29/18' '6/26/16'\n",
      " '3/30/14' '3/24/18' '12/30/16' '1/5/16' '1/30/18' '9/26/14' '1/30/15'\n",
      " '1/5/18' '7/24/17' '4/25/18' '11/28/18' '10/2/18' '5/23/18' '5/3/18'\n",
      " '3/5/17' '8/4/17' '7/23/17' '8/27/18' '4/23/18' '3/26/17' '8/4/16'\n",
      " '10/4/16' '9/2/17' '1/31/18' '11/25/17' '7/2/17' '10/2/17' '6/26/18'\n",
      " '12/30/17' '3/23/18' '6/1/17' '9/24/17' '9/30/17' '11/30/18' '9/28/16'\n",
      " '9/3/16' '3/3/18' '9/23/18' '6/4/17' '7/6/17' '8/27/17' '10/25/18'\n",
      " '11/26/18' '8/29/16' '5/27/14' '10/23/18' '5/3/19' '11/30/17' '10/3/18'\n",
      " '7/26/16' '6/25/17' '2/5/16' '8/3/18' '9/29/17' '12/3/16' '8/28/18'\n",
      " '8/26/17' '1/6/17' '6/3/17' '9/27/16' '3/29/17' '1/1/18' '8/30/18'\n",
      " '1/26/17' '7/30/17' '6/27/18' '4/6/17' '2/5/14' '8/1/18' '9/4/18'\n",
      " '9/28/18' '11/2/14' '3/28/18' '8/24/18' '2/23/18' '10/30/16' '11/30/16'\n",
      " '11/26/16' '12/25/16' '7/27/17' '2/6/17' '11/26/14' '7/5/17' '3/29/18'\n",
      " '10/27/18' '5/26/18' '9/5/17' '9/26/18' '2/23/17' '8/31/15' '4/3/17'\n",
      " '1/6/18' '6/27/17' '10/5/17' '9/30/18' '3/9/18' '2/24/14' '8/25/18'\n",
      " '8/5/16' '7/3/17' '10/31/16' '10/26/18' '6/23/14' '12/23/17' '4/27/14'\n",
      " '10/3/16' '7/23/18' '3/3/17' '3/5/14' '6/25/18' '8/1/16' '1/23/19'\n",
      " '7/27/18' '7/30/16' '6/2/17' '11/24/16' '10/30/18' '1/29/18' '4/28/18'\n",
      " '3/3/15' '5/24/17' '11/27/15' '2/26/18' '7/24/18' '6/30/17' '2/1/18'\n",
      " '5/5/18' '12/24/16' '12/31/16' '8/2/18' '8/6/18' '3/1/17' '8/23/16'\n",
      " '7/26/17' '12/7/18' '6/30/15' '2/24/18' '1/24/17' '4/24/14' '8/6/17'\n",
      " '7/29/17' '10/23/16' '12/5/17' '6/5/15' '3/24/14' '10/6/18' '12/5/18'\n",
      " '12/3/18' '6/1/18' '10/5/18' '11/23/17' '6/2/15' '1/27/18' '4/4/17'\n",
      " '5/1/17' '3/4/18' '6/28/17' '2/28/17' '3/30/18' '7/29/18' '9/23/16'\n",
      " '4/24/18' '9/25/16' '5/2/17' '5/1/19' '2/3/18' '5/25/17' '5/30/18'\n",
      " '5/31/14' '8/28/16' '4/6/19' '3/8/18' '2/24/17' '3/6/14' '5/31/16'\n",
      " '4/26/18' '12/7/17' '8/30/17' '9/28/17' '1/26/18' '11/4/15' '10/30/17'\n",
      " '11/26/17' '11/2/17' '2/6/15' '11/25/15' '7/23/16' '9/26/16' '9/27/14'\n",
      " '3/24/19' '8/6/16' '3/26/14' '7/24/14' '11/3/14' '3/6/15' '8/27/14'\n",
      " '3/24/16' '11/4/18' '1/27/15' '3/3/19' '3/4/17' '9/1/18' '5/27/15'\n",
      " '12/1/15' '3/4/15' '1/5/19' '12/24/18' '10/31/18' '10/29/18' '3/1/19'\n",
      " '8/31/18' '6/27/14' '3/6/18' '2/3/19' '12/25/14' '11/2/16' '3/31/17'\n",
      " '2/6/16' '12/31/18' '4/29/16' '3/8/19' '5/25/16' '5/30/15' '2/25/14'\n",
      " '1/23/15' '12/28/15' '5/5/15' '7/29/14' '8/6/15' '1/30/14' '10/6/15'\n",
      " '12/1/18' '10/6/17' '11/30/15' '12/1/17' '9/6/18' '1/2/18' '9/30/15'\n",
      " '1/6/16' '10/27/14' '12/6/16' '12/24/17' '10/7/18' '1/3/19' '3/2/19'\n",
      " '5/24/19' '5/4/19' '1/25/18' '4/2/16' '5/1/18' '12/25/18' '8/23/18'\n",
      " '1/1/19' '5/26/14' '11/2/15' '1/24/16' '2/1/17' '1/6/19' '3/7/15'\n",
      " '11/1/14' '2/2/15' '11/29/18' '6/2/16' '10/2/14' '4/23/16' '2/3/16'\n",
      " '8/25/14' '4/25/14' '12/30/18' '10/25/15' '9/25/17' '8/3/15' '10/27/15'\n",
      " '8/29/14' '12/7/16' '8/2/15' '12/24/15' '3/25/19' '4/30/16' '4/1/18'\n",
      " '6/1/14' '1/31/15' '2/3/14' '4/4/14' '10/30/14' '10/24/15' '4/28/19'\n",
      " '12/29/18' '11/23/15' '2/23/15' '5/28/16' '8/30/15' '9/25/15' '2/3/15'\n",
      " '5/31/19' '2/28/16' '6/28/15' '2/26/16' '12/23/15' '9/1/15' '4/6/16'\n",
      " '2/1/16' '4/4/15']\n",
      "building_type\n",
      "['low-rise' 'mid-rise' 'low rise']\n",
      "vacancy_level\n",
      "['LOW' 'HIGH']\n",
      "city_id\n",
      "[175 193 155 165 152 191 154 176 195 179 130 123 160 199 105 188 141 180\n",
      " 178 103 138 169 182 162 192]\n",
      "has_online_tour\n",
      "[nan 'no' 'yes']\n",
      "photo_quality\n",
      "['low' 'high']\n",
      "lead_volume\n",
      "['medium' 'high']\n"
     ]
    }
   ],
   "source": [
    "# Let's see if the dataset creators snuck in some misspellings, etc\n",
    "\n",
    "for col in list(df):\n",
    "    print(col)\n",
    "    print(df[col].unique())"
   ]
  },
  {
   "cell_type": "markdown",
   "metadata": {},
   "source": [
    "### Working With Features: \"subscription_level\""
   ]
  },
  {
   "cell_type": "code",
   "execution_count": 7,
   "metadata": {
    "scrolled": true
   },
   "outputs": [
    {
     "data": {
      "text/plain": [
       "count       3497\n",
       "unique        10\n",
       "top       Level9\n",
       "freq         388\n",
       "Name: subscription_level, dtype: object"
      ]
     },
     "execution_count": 7,
     "metadata": {},
     "output_type": "execute_result"
    }
   ],
   "source": [
    "# As we saw above, there only 3 NULL values so we'll look for the top value\n",
    "# and replace the NULLs\n",
    "\n",
    "df.subscription_level.describe()"
   ]
  },
  {
   "cell_type": "code",
   "execution_count": 8,
   "metadata": {},
   "outputs": [],
   "source": [
    "df.subscription_level = df.subscription_level.fillna(\"Level9\")"
   ]
  },
  {
   "cell_type": "code",
   "execution_count": 9,
   "metadata": {},
   "outputs": [
    {
     "data": {
      "text/plain": [
       "subscription_level       0\n",
       "sign_up_date             0\n",
       "building_type            0\n",
       "vacancy_level            0\n",
       "city_id                  0\n",
       "has_online_tour       2810\n",
       "photo_quality            0\n",
       "lead_volume              0\n",
       "dtype: int64"
      ]
     },
     "execution_count": 9,
     "metadata": {},
     "output_type": "execute_result"
    }
   ],
   "source": [
    "df.isna().sum()"
   ]
  },
  {
   "cell_type": "code",
   "execution_count": 10,
   "metadata": {},
   "outputs": [
    {
     "data": {
      "text/plain": [
       "0    4\n",
       "1    9\n",
       "2    1\n",
       "3    4\n",
       "4    2\n",
       "Name: subscription_level, dtype: int64"
      ]
     },
     "execution_count": 10,
     "metadata": {},
     "output_type": "execute_result"
    }
   ],
   "source": [
    "# Since subscription_level has 10 divisions and is considered ordinal,\n",
    "# we'll leave it as-is for now.\n",
    "\n",
    "df['subscription_level'] = df['subscription_level'].str.lstrip('Level')\n",
    "df['subscription_level'] = df['subscription_level'].astype('int')\n",
    "df['subscription_level'].head()"
   ]
  },
  {
   "cell_type": "markdown",
   "metadata": {},
   "source": [
    "### Working With Features: \"has_online_tour\""
   ]
  },
  {
   "cell_type": "code",
   "execution_count": 11,
   "metadata": {},
   "outputs": [
    {
     "data": {
      "text/plain": [
       "count     690\n",
       "unique      2\n",
       "top        no\n",
       "freq      599\n",
       "Name: has_online_tour, dtype: object"
      ]
     },
     "execution_count": 11,
     "metadata": {},
     "output_type": "execute_result"
    }
   ],
   "source": [
    "# Earlier we saw that this feature has a significant number of NULLs (~20%).\n",
    "# That is too much data to simply drop BUT a small enough number that we\n",
    "# need to be careful what we impute. In this case, the answer is fairly simple as\n",
    "# it is reasonable to assume that if an online tour were in fact available, it would\n",
    "# be marketed as such. Given that the rest of the data shows there are relatively few tours\n",
    "# available, it is safe to impute \"no\" in the place of NULL values.\n",
    "\n",
    "df.has_online_tour.describe()"
   ]
  },
  {
   "cell_type": "code",
   "execution_count": 12,
   "metadata": {
    "scrolled": true
   },
   "outputs": [
    {
     "data": {
      "text/plain": [
       "subscription_level    599\n",
       "sign_up_date          599\n",
       "building_type         599\n",
       "vacancy_level         599\n",
       "city_id               599\n",
       "has_online_tour       599\n",
       "photo_quality         599\n",
       "lead_volume           599\n",
       "dtype: int64"
      ]
     },
     "execution_count": 12,
     "metadata": {},
     "output_type": "execute_result"
    }
   ],
   "source": [
    "df[df['has_online_tour']=='no'].count()"
   ]
  },
  {
   "cell_type": "code",
   "execution_count": 13,
   "metadata": {},
   "outputs": [],
   "source": [
    "df['has_online_tour'].fillna('no',inplace=True)"
   ]
  },
  {
   "cell_type": "code",
   "execution_count": 14,
   "metadata": {
    "scrolled": true
   },
   "outputs": [
    {
     "data": {
      "text/plain": [
       "subscription_level    0\n",
       "sign_up_date          0\n",
       "building_type         0\n",
       "vacancy_level         0\n",
       "city_id               0\n",
       "has_online_tour       0\n",
       "photo_quality         0\n",
       "lead_volume           0\n",
       "dtype: int64"
      ]
     },
     "execution_count": 14,
     "metadata": {},
     "output_type": "execute_result"
    }
   ],
   "source": [
    "df.isna().sum()"
   ]
  },
  {
   "cell_type": "markdown",
   "metadata": {},
   "source": [
    "### Working With Features: Other"
   ]
  },
  {
   "cell_type": "code",
   "execution_count": 15,
   "metadata": {},
   "outputs": [
    {
     "data": {
      "text/plain": [
       "0   2016-07-24\n",
       "1   2018-12-23\n",
       "2   2016-12-02\n",
       "3   2017-09-03\n",
       "4   2016-07-29\n",
       "Name: sign_up_date, dtype: datetime64[ns]"
      ]
     },
     "execution_count": 15,
     "metadata": {},
     "output_type": "execute_result"
    }
   ],
   "source": [
    "# Here we convert the data to a datetime dtype\n",
    "\n",
    "df.sign_up_date = pd.to_datetime(df['sign_up_date'])\n",
    "df.sign_up_date.head()"
   ]
  },
  {
   "cell_type": "code",
   "execution_count": 16,
   "metadata": {},
   "outputs": [],
   "source": [
    "# Our unique value search yielded a misspelling which also created a 3rd category\n",
    "# of building_type, so we correct that here.\n",
    "\n",
    "df['building_type'] = df['building_type'].replace('low rise','low-rise')"
   ]
  },
  {
   "cell_type": "code",
   "execution_count": 17,
   "metadata": {},
   "outputs": [],
   "source": [
    "df['city_id'] = df['city_id'].astype('category')"
   ]
  },
  {
   "cell_type": "code",
   "execution_count": 18,
   "metadata": {},
   "outputs": [
    {
     "name": "stdout",
     "output_type": "stream",
     "text": [
      "<class 'pandas.core.frame.DataFrame'>\n",
      "RangeIndex: 3500 entries, 0 to 3499\n",
      "Data columns (total 8 columns):\n",
      " #   Column              Non-Null Count  Dtype         \n",
      "---  ------              --------------  -----         \n",
      " 0   subscription_level  3500 non-null   int64         \n",
      " 1   sign_up_date        3500 non-null   datetime64[ns]\n",
      " 2   building_type       3500 non-null   object        \n",
      " 3   vacancy_level       3500 non-null   object        \n",
      " 4   city_id             3500 non-null   category      \n",
      " 5   has_online_tour     3500 non-null   object        \n",
      " 6   photo_quality       3500 non-null   object        \n",
      " 7   lead_volume         3500 non-null   object        \n",
      "dtypes: category(1), datetime64[ns](1), int64(1), object(5)\n",
      "memory usage: 195.8+ KB\n"
     ]
    }
   ],
   "source": [
    "df.info()"
   ]
  },
  {
   "cell_type": "code",
   "execution_count": 19,
   "metadata": {},
   "outputs": [
    {
     "name": "stdout",
     "output_type": "stream",
     "text": [
      "int64\n",
      "datetime64[ns]\n",
      "category\n",
      "category\n",
      "category\n",
      "category\n",
      "category\n",
      "category\n"
     ]
    }
   ],
   "source": [
    "for col in df:\n",
    "    if df[col].dtype == \"object\":\n",
    "       df[col] = df[col].astype('category')\n",
    "    print(df[col].dtype)"
   ]
  },
  {
   "cell_type": "code",
   "execution_count": 20,
   "metadata": {
    "scrolled": true
   },
   "outputs": [
    {
     "data": {
      "text/html": [
       "<div>\n",
       "<style scoped>\n",
       "    .dataframe tbody tr th:only-of-type {\n",
       "        vertical-align: middle;\n",
       "    }\n",
       "\n",
       "    .dataframe tbody tr th {\n",
       "        vertical-align: top;\n",
       "    }\n",
       "\n",
       "    .dataframe thead th {\n",
       "        text-align: right;\n",
       "    }\n",
       "</style>\n",
       "<table border=\"1\" class=\"dataframe\">\n",
       "  <thead>\n",
       "    <tr style=\"text-align: right;\">\n",
       "      <th></th>\n",
       "      <th>subscription_level</th>\n",
       "      <th>sign_up_date</th>\n",
       "      <th>building_type</th>\n",
       "      <th>vacancy_level</th>\n",
       "      <th>city_id</th>\n",
       "      <th>has_online_tour</th>\n",
       "      <th>photo_quality</th>\n",
       "      <th>lead_volume</th>\n",
       "    </tr>\n",
       "  </thead>\n",
       "  <tbody>\n",
       "    <tr>\n",
       "      <th>0</th>\n",
       "      <td>4</td>\n",
       "      <td>2016-07-24</td>\n",
       "      <td>low-rise</td>\n",
       "      <td>LOW</td>\n",
       "      <td>175</td>\n",
       "      <td>no</td>\n",
       "      <td>low</td>\n",
       "      <td>medium</td>\n",
       "    </tr>\n",
       "    <tr>\n",
       "      <th>1</th>\n",
       "      <td>9</td>\n",
       "      <td>2018-12-23</td>\n",
       "      <td>low-rise</td>\n",
       "      <td>LOW</td>\n",
       "      <td>193</td>\n",
       "      <td>no</td>\n",
       "      <td>high</td>\n",
       "      <td>medium</td>\n",
       "    </tr>\n",
       "    <tr>\n",
       "      <th>2</th>\n",
       "      <td>1</td>\n",
       "      <td>2016-12-02</td>\n",
       "      <td>low-rise</td>\n",
       "      <td>LOW</td>\n",
       "      <td>155</td>\n",
       "      <td>no</td>\n",
       "      <td>high</td>\n",
       "      <td>medium</td>\n",
       "    </tr>\n",
       "    <tr>\n",
       "      <th>3</th>\n",
       "      <td>4</td>\n",
       "      <td>2017-09-03</td>\n",
       "      <td>low-rise</td>\n",
       "      <td>LOW</td>\n",
       "      <td>155</td>\n",
       "      <td>no</td>\n",
       "      <td>low</td>\n",
       "      <td>medium</td>\n",
       "    </tr>\n",
       "    <tr>\n",
       "      <th>4</th>\n",
       "      <td>2</td>\n",
       "      <td>2016-07-29</td>\n",
       "      <td>low-rise</td>\n",
       "      <td>LOW</td>\n",
       "      <td>165</td>\n",
       "      <td>no</td>\n",
       "      <td>high</td>\n",
       "      <td>high</td>\n",
       "    </tr>\n",
       "  </tbody>\n",
       "</table>\n",
       "</div>"
      ],
      "text/plain": [
       "   subscription_level sign_up_date building_type vacancy_level city_id  \\\n",
       "0                   4   2016-07-24      low-rise           LOW     175   \n",
       "1                   9   2018-12-23      low-rise           LOW     193   \n",
       "2                   1   2016-12-02      low-rise           LOW     155   \n",
       "3                   4   2017-09-03      low-rise           LOW     155   \n",
       "4                   2   2016-07-29      low-rise           LOW     165   \n",
       "\n",
       "  has_online_tour photo_quality lead_volume  \n",
       "0              no           low      medium  \n",
       "1              no          high      medium  \n",
       "2              no          high      medium  \n",
       "3              no           low      medium  \n",
       "4              no          high        high  "
      ]
     },
     "execution_count": 20,
     "metadata": {},
     "output_type": "execute_result"
    }
   ],
   "source": [
    "df.head()"
   ]
  },
  {
   "cell_type": "code",
   "execution_count": 21,
   "metadata": {},
   "outputs": [
    {
     "name": "stdout",
     "output_type": "stream",
     "text": [
      "<class 'pandas.core.frame.DataFrame'>\n",
      "RangeIndex: 3500 entries, 0 to 3499\n",
      "Data columns (total 8 columns):\n",
      " #   Column              Non-Null Count  Dtype         \n",
      "---  ------              --------------  -----         \n",
      " 0   subscription_level  3500 non-null   int64         \n",
      " 1   sign_up_date        3500 non-null   datetime64[ns]\n",
      " 2   building_type       3500 non-null   category      \n",
      " 3   vacancy_level       3500 non-null   category      \n",
      " 4   city_id             3500 non-null   category      \n",
      " 5   has_online_tour     3500 non-null   category      \n",
      " 6   photo_quality       3500 non-null   category      \n",
      " 7   lead_volume         3500 non-null   category      \n",
      "dtypes: category(6), datetime64[ns](1), int64(1)\n",
      "memory usage: 76.6 KB\n"
     ]
    }
   ],
   "source": [
    "df.info()"
   ]
  },
  {
   "cell_type": "code",
   "execution_count": 22,
   "metadata": {},
   "outputs": [],
   "source": [
    "# The trickiest part of this particular dataset lies in the fact we have no\n",
    "# real continuous features. However, other than the sign_up_date, city_id,\n",
    "# and subscription_level, the remaining features (while categorical) can be encoded \n",
    "# as ordinal given their patterns. It's also important to note that this is made easier by\n",
    "# the fact that the data is nearly binary. As such we encode using 'cat.codes'\n",
    "\n",
    "cols = ['building_type','vacancy_level','has_online_tour','photo_quality','lead_volume']\n",
    "for col in list(cols):\n",
    "    df[col]=df[col].cat.codes"
   ]
  },
  {
   "cell_type": "code",
   "execution_count": 23,
   "metadata": {},
   "outputs": [
    {
     "data": {
      "text/html": [
       "<div>\n",
       "<style scoped>\n",
       "    .dataframe tbody tr th:only-of-type {\n",
       "        vertical-align: middle;\n",
       "    }\n",
       "\n",
       "    .dataframe tbody tr th {\n",
       "        vertical-align: top;\n",
       "    }\n",
       "\n",
       "    .dataframe thead th {\n",
       "        text-align: right;\n",
       "    }\n",
       "</style>\n",
       "<table border=\"1\" class=\"dataframe\">\n",
       "  <thead>\n",
       "    <tr style=\"text-align: right;\">\n",
       "      <th></th>\n",
       "      <th>subscription_level</th>\n",
       "      <th>sign_up_date</th>\n",
       "      <th>building_type</th>\n",
       "      <th>vacancy_level</th>\n",
       "      <th>city_id</th>\n",
       "      <th>has_online_tour</th>\n",
       "      <th>photo_quality</th>\n",
       "      <th>lead_volume</th>\n",
       "    </tr>\n",
       "  </thead>\n",
       "  <tbody>\n",
       "    <tr>\n",
       "      <th>0</th>\n",
       "      <td>4</td>\n",
       "      <td>2016-07-24</td>\n",
       "      <td>0</td>\n",
       "      <td>1</td>\n",
       "      <td>175</td>\n",
       "      <td>0</td>\n",
       "      <td>1</td>\n",
       "      <td>1</td>\n",
       "    </tr>\n",
       "    <tr>\n",
       "      <th>1</th>\n",
       "      <td>9</td>\n",
       "      <td>2018-12-23</td>\n",
       "      <td>0</td>\n",
       "      <td>1</td>\n",
       "      <td>193</td>\n",
       "      <td>0</td>\n",
       "      <td>0</td>\n",
       "      <td>1</td>\n",
       "    </tr>\n",
       "    <tr>\n",
       "      <th>2</th>\n",
       "      <td>1</td>\n",
       "      <td>2016-12-02</td>\n",
       "      <td>0</td>\n",
       "      <td>1</td>\n",
       "      <td>155</td>\n",
       "      <td>0</td>\n",
       "      <td>0</td>\n",
       "      <td>1</td>\n",
       "    </tr>\n",
       "    <tr>\n",
       "      <th>3</th>\n",
       "      <td>4</td>\n",
       "      <td>2017-09-03</td>\n",
       "      <td>0</td>\n",
       "      <td>1</td>\n",
       "      <td>155</td>\n",
       "      <td>0</td>\n",
       "      <td>1</td>\n",
       "      <td>1</td>\n",
       "    </tr>\n",
       "    <tr>\n",
       "      <th>4</th>\n",
       "      <td>2</td>\n",
       "      <td>2016-07-29</td>\n",
       "      <td>0</td>\n",
       "      <td>1</td>\n",
       "      <td>165</td>\n",
       "      <td>0</td>\n",
       "      <td>0</td>\n",
       "      <td>0</td>\n",
       "    </tr>\n",
       "  </tbody>\n",
       "</table>\n",
       "</div>"
      ],
      "text/plain": [
       "   subscription_level sign_up_date  building_type  vacancy_level city_id  \\\n",
       "0                   4   2016-07-24              0              1     175   \n",
       "1                   9   2018-12-23              0              1     193   \n",
       "2                   1   2016-12-02              0              1     155   \n",
       "3                   4   2017-09-03              0              1     155   \n",
       "4                   2   2016-07-29              0              1     165   \n",
       "\n",
       "   has_online_tour  photo_quality  lead_volume  \n",
       "0                0              1            1  \n",
       "1                0              0            1  \n",
       "2                0              0            1  \n",
       "3                0              1            1  \n",
       "4                0              0            0  "
      ]
     },
     "execution_count": 23,
     "metadata": {},
     "output_type": "execute_result"
    }
   ],
   "source": [
    "df.head()"
   ]
  },
  {
   "cell_type": "code",
   "execution_count": 24,
   "metadata": {},
   "outputs": [
    {
     "name": "stdout",
     "output_type": "stream",
     "text": [
      "<class 'pandas.core.frame.DataFrame'>\n",
      "RangeIndex: 3500 entries, 0 to 3499\n",
      "Data columns (total 8 columns):\n",
      " #   Column              Non-Null Count  Dtype         \n",
      "---  ------              --------------  -----         \n",
      " 0   subscription_level  3500 non-null   int64         \n",
      " 1   sign_up_date        3500 non-null   datetime64[ns]\n",
      " 2   building_type       3500 non-null   int8          \n",
      " 3   vacancy_level       3500 non-null   int8          \n",
      " 4   city_id             3500 non-null   category      \n",
      " 5   has_online_tour     3500 non-null   int8          \n",
      " 6   photo_quality       3500 non-null   int8          \n",
      " 7   lead_volume         3500 non-null   int8          \n",
      "dtypes: category(1), datetime64[ns](1), int64(1), int8(5)\n",
      "memory usage: 76.1 KB\n"
     ]
    }
   ],
   "source": [
    "df.info()"
   ]
  },
  {
   "cell_type": "markdown",
   "metadata": {},
   "source": [
    "# EDA"
   ]
  },
  {
   "cell_type": "markdown",
   "metadata": {},
   "source": [
    "### First part of formal EDA should be to get a high level understanding of each feature\n"
   ]
  },
  {
   "cell_type": "code",
   "execution_count": 25,
   "metadata": {},
   "outputs": [],
   "source": [
    "cols = ['building_type','vacancy_level','has_online_tour','photo_quality','lead_volume']"
   ]
  },
  {
   "cell_type": "code",
   "execution_count": 26,
   "metadata": {},
   "outputs": [
    {
     "data": {
      "text/plain": [
       "<matplotlib.axes._subplots.AxesSubplot at 0x7feee0725b10>"
      ]
     },
     "execution_count": 26,
     "metadata": {},
     "output_type": "execute_result"
    },
    {
     "data": {
      "image/png": "[encoded data removed]",
      "text/plain": [
       "<Figure size 432x432 with 1 Axes>"
      ]
     },
     "metadata": {},
     "output_type": "display_data"
    }
   ],
   "source": [
    "# Interesting to note that there isn't a major delta between subcription_level counts\n",
    "\n",
    "sns.set(rc={'figure.figsize':(6,6),'axes.facecolor':'cornflowerblue','figure.facecolor':'cornflowerblue'})\n",
    "sns.axes_style(\"darkgrid\")\n",
    "sns.countplot(x='subscription_level',data=df,palette='Blues')"
   ]
  },
  {
   "cell_type": "code",
   "execution_count": 27,
   "metadata": {},
   "outputs": [
    {
     "data": {
      "text/plain": [
       "<matplotlib.axes._subplots.AxesSubplot at 0x7feea056c2d0>"
      ]
     },
     "execution_count": 27,
     "metadata": {},
     "output_type": "execute_result"
    },
    {
     "data": {
      "image/png": "[encoded data removed]",
      "text/plain": [
       "<Figure size 720x720 with 6 Axes>"
      ]
     },
     "metadata": {},
     "output_type": "display_data"
    }
   ],
   "source": [
    "# A few interesting notes here:\n",
    "\n",
    "# Online tours have very little impact on lead generation,\n",
    "# which could prove an important observation when looking at\n",
    "# customer spend.\n",
    "\n",
    "# It makes sense that a high vacancy rate could be a result\n",
    "# of increased leads. Something to examine in our feature correlation analysis.\n",
    "\n",
    "f, axes = plt.subplots(3, 2, figsize=(10, 10), sharex=True)\n",
    "sns.set(rc={'axes.facecolor':'cornflowerblue', 'figure.facecolor':'cornflowerblue'})\n",
    "sns.set_style(\"darkgrid\")\n",
    "sns.countplot(x='building_type',data=df,palette='Blues',ax=axes[0, 0]);\n",
    "sns.countplot(x='vacancy_level',data=df,palette='Blues', ax=axes[0, 1])\n",
    "sns.countplot(x='has_online_tour',data=df,palette='Blues', ax=axes[1, 0])\n",
    "sns.countplot(x='photo_quality',data=df,palette='Blues', ax=axes[1, 1])\n",
    "sns.countplot(x='lead_volume',data=df,palette='Blues', ax=axes[2, 0])"
   ]
  },
  {
   "cell_type": "markdown",
   "metadata": {},
   "source": [
    "### It makes sense to look at subscription levels by city, when companies sign up throughout the year, & at what subscription level"
   ]
  },
  {
   "cell_type": "code",
   "execution_count": 28,
   "metadata": {},
   "outputs": [
    {
     "data": {
      "text/plain": [
       "<matplotlib.axes._subplots.AxesSubplot at 0x7feed1073b50>"
      ]
     },
     "execution_count": 28,
     "metadata": {},
     "output_type": "execute_result"
    },
    {
     "data": {
      "image/png": "[encoded data removed]",
      "text/plain": [
       "<Figure size 576x576 with 1 Axes>"
      ]
     },
     "metadata": {},
     "output_type": "display_data"
    }
   ],
   "source": [
    "# City 152 has nearly 3x the number of subscriptions vs the other cities in the dataset\n",
    "# with a fairly equal distribution of all 10 subscription levels.\n",
    "# The table shows that while there is a big difference in total number of subscriptions\n",
    "# between cities, it appears that all levels are respresented and there isn't a huge\n",
    "# disparity between each.\n",
    "\n",
    "df_plot = df.groupby(['subscription_level', 'city_id']).size().reset_index().pivot(columns='subscription_level', index='city_id', values=0)\n",
    "sns.set(rc={'figure.figsize':(8,8),'axes.facecolor':'cornflowerblue','figure.facecolor':'cornflowerblue'})\n",
    "df_plot.plot(kind='bar', stacked=True)\n"
   ]
  },
  {
   "cell_type": "code",
   "execution_count": 29,
   "metadata": {},
   "outputs": [
    {
     "data": {
      "text/html": [
       "<div>\n",
       "<style scoped>\n",
       "    .dataframe tbody tr th:only-of-type {\n",
       "        vertical-align: middle;\n",
       "    }\n",
       "\n",
       "    .dataframe tbody tr th {\n",
       "        vertical-align: top;\n",
       "    }\n",
       "\n",
       "    .dataframe thead th {\n",
       "        text-align: right;\n",
       "    }\n",
       "</style>\n",
       "<table border=\"1\" class=\"dataframe\">\n",
       "  <thead>\n",
       "    <tr style=\"text-align: right;\">\n",
       "      <th></th>\n",
       "      <th>subscription_level</th>\n",
       "      <th>sign_up_month</th>\n",
       "    </tr>\n",
       "  </thead>\n",
       "  <tbody>\n",
       "    <tr>\n",
       "      <th>2200</th>\n",
       "      <td>7</td>\n",
       "      <td>1</td>\n",
       "    </tr>\n",
       "    <tr>\n",
       "      <th>476</th>\n",
       "      <td>1</td>\n",
       "      <td>1</td>\n",
       "    </tr>\n",
       "    <tr>\n",
       "      <th>2422</th>\n",
       "      <td>2</td>\n",
       "      <td>1</td>\n",
       "    </tr>\n",
       "    <tr>\n",
       "      <th>2061</th>\n",
       "      <td>7</td>\n",
       "      <td>1</td>\n",
       "    </tr>\n",
       "    <tr>\n",
       "      <th>965</th>\n",
       "      <td>2</td>\n",
       "      <td>1</td>\n",
       "    </tr>\n",
       "  </tbody>\n",
       "</table>\n",
       "</div>"
      ],
      "text/plain": [
       "      subscription_level  sign_up_month\n",
       "2200                   7              1\n",
       "476                    1              1\n",
       "2422                   2              1\n",
       "2061                   7              1\n",
       "965                    2              1"
      ]
     },
     "execution_count": 29,
     "metadata": {},
     "output_type": "execute_result"
    }
   ],
   "source": [
    "df_plot2 = df[['sign_up_date','subscription_level']]\n",
    "df_plot2['sign_up_month'] = df_plot2['sign_up_date'].dt.month\n",
    "df_plot2.drop('sign_up_date',axis=1,inplace=True)\n",
    "df_plot2=df_plot2.sort_values(by='sign_up_month')\n",
    "df_plot2.head()"
   ]
  },
  {
   "cell_type": "code",
   "execution_count": 30,
   "metadata": {},
   "outputs": [
    {
     "data": {
      "text/plain": [
       "sign_up_month\n",
       "1     268\n",
       "2     218\n",
       "3     309\n",
       "4     229\n",
       "5     265\n",
       "6     228\n",
       "7     290\n",
       "8     346\n",
       "9     303\n",
       "10    390\n",
       "11    338\n",
       "12    316\n",
       "Name: subscription_level, dtype: int64"
      ]
     },
     "execution_count": 30,
     "metadata": {},
     "output_type": "execute_result"
    }
   ],
   "source": [
    "df_plot2=df_plot2.sort_values(by='sign_up_month')\n",
    "\n",
    "df_plot3 = df_plot2.groupby('sign_up_month').count().subscription_level\n",
    "df_plot3"
   ]
  },
  {
   "cell_type": "code",
   "execution_count": 31,
   "metadata": {},
   "outputs": [
    {
     "data": {
      "text/plain": [
       "<matplotlib.axes._subplots.AxesSubplot at 0x7feed12f1990>"
      ]
     },
     "execution_count": 31,
     "metadata": {},
     "output_type": "execute_result"
    },
    {
     "data": {
      "image/png": "[encoded data removed]",
      "text/plain": [
       "<Figure size 576x576 with 1 Axes>"
      ]
     },
     "metadata": {},
     "output_type": "display_data"
    }
   ],
   "source": [
    "# Given the seasonality of the renters market in general,\n",
    "# we thought it important to examine trends by month. This\n",
    "# chart is a bit strange in that the summer months are usually \n",
    "# the hottest time in the rental market, and we'd expect\n",
    "# an upward trend to begin in May in preparation. In this case, however,\n",
    "# things don't get going until June and peak in August. The\n",
    "# peak of cycle in October also makes very little sense. \n",
    "\n",
    "# It is also important to note here that the scale distorts\n",
    "# the absolute numbers as evidenced in the following chart.\n",
    "\n",
    "sns.lineplot(data=df_plot3,color='white', linewidth=3.5)"
   ]
  },
  {
   "cell_type": "code",
   "execution_count": 32,
   "metadata": {},
   "outputs": [
    {
     "data": {
      "text/plain": [
       "<matplotlib.axes._subplots.AxesSubplot at 0x7fef0030a350>"
      ]
     },
     "execution_count": 32,
     "metadata": {},
     "output_type": "execute_result"
    },
    {
     "data": {
      "image/png": "[encoded data removed]",
      "text/plain": [
       "<Figure size 576x576 with 1 Axes>"
      ]
     },
     "metadata": {},
     "output_type": "display_data"
    }
   ],
   "source": [
    "# These stacked bars present a more normalized view of the subscription\n",
    "# sign-up dynamics. However, the odd trends discussed above remain albeit\n",
    "# visually more muted.\n",
    "\n",
    "# Again, we think it's notable that the spread between subscription levels is\n",
    "# not drastically different between months.\n",
    "\n",
    "df_plot4 = df_plot2.groupby(['subscription_level', 'sign_up_month']).size().reset_index().pivot(columns='subscription_level', index='sign_up_month', values=0)\n",
    "sns.set(rc={'figure.figsize':(8,8),'axes.facecolor':'cornflowerblue','figure.facecolor':'cornflowerblue'})\n",
    "df_plot4.plot(kind='bar', stacked=True)\n"
   ]
  },
  {
   "cell_type": "markdown",
   "metadata": {},
   "source": [
    "# Correlation and Models"
   ]
  },
  {
   "cell_type": "code",
   "execution_count": 33,
   "metadata": {},
   "outputs": [
    {
     "data": {
      "text/plain": [
       "<matplotlib.axes._subplots.AxesSubplot at 0x7feee08d1150>"
      ]
     },
     "execution_count": 33,
     "metadata": {},
     "output_type": "execute_result"
    },
    {
     "data": {
      "image/png": "[encoded data removed]",
      "text/plain": [
       "<Figure size 864x648 with 2 Axes>"
      ]
     },
     "metadata": {},
     "output_type": "display_data"
    }
   ],
   "source": [
    "# Overall the data is not highly correlated and no indication\n",
    "# of multicollinearity. \n",
    "# As suspected, the highest positive correlation here exists between \n",
    "# vacancy levels and lead volume.\n",
    "# Somewhat strange (but interesting) is the high negative correlation between photo\n",
    "# quality and lead volume.\n",
    "\n",
    "plt.figure(figsize=(12,9))\n",
    "sns.set(rc={'figure.facecolor':'cornflowerblue'})\n",
    "sns.heatmap(df.corr(), annot=True)"
   ]
  },
  {
   "cell_type": "markdown",
   "metadata": {},
   "source": [
    "### There are a few choices to explore further through modeling, but we chose to predict the level of lead volume (medium vs high) using logistic regression"
   ]
  },
  {
   "cell_type": "code",
   "execution_count": 34,
   "metadata": {},
   "outputs": [],
   "source": [
    "X = df[['building_type','vacancy_level','has_online_tour','photo_quality']]\n",
    "y = df[['lead_volume']]"
   ]
  },
  {
   "cell_type": "code",
   "execution_count": 35,
   "metadata": {},
   "outputs": [],
   "source": [
    "from sklearn.model_selection import train_test_split\n",
    "X_train, X_test, y_train, y_test = train_test_split(X, y, test_size=0.3, random_state=101)"
   ]
  },
  {
   "cell_type": "code",
   "execution_count": 36,
   "metadata": {},
   "outputs": [
    {
     "name": "stdout",
     "output_type": "stream",
     "text": [
      "Optimization terminated successfully.\n",
      "         Current function value: 0.518339\n",
      "         Iterations 6\n"
     ]
    }
   ],
   "source": [
    "log_reg = sm.Logit(y_train, X_train).fit()"
   ]
  },
  {
   "cell_type": "code",
   "execution_count": 37,
   "metadata": {},
   "outputs": [
    {
     "name": "stdout",
     "output_type": "stream",
     "text": [
      "                           Logit Regression Results                           \n",
      "==============================================================================\n",
      "Dep. Variable:            lead_volume   No. Observations:                 2450\n",
      "Model:                          Logit   Df Residuals:                     2446\n",
      "Method:                           MLE   Df Model:                            3\n",
      "Date:                Fri, 03 Sep 2021   Pseudo R-squ.:                  0.2521\n",
      "Time:                        01:34:34   Log-Likelihood:                -1269.9\n",
      "converged:                       True   LL-Null:                       -1698.0\n",
      "Covariance Type:            nonrobust   LLR p-value:                2.965e-185\n",
      "===================================================================================\n",
      "                      coef    std err          z      P>|z|      [0.025      0.975]\n",
      "-----------------------------------------------------------------------------------\n",
      "building_type       0.0234      0.095      0.245      0.806      -0.164       0.210\n",
      "vacancy_level       1.5318      0.086     17.800      0.000       1.363       1.700\n",
      "has_online_tour     0.2438      0.314      0.777      0.437      -0.371       0.859\n",
      "photo_quality      -2.4611      0.099    -24.866      0.000      -2.655      -2.267\n",
      "===================================================================================\n"
     ]
    }
   ],
   "source": [
    "# We chose Statsmodels' Logit Regression package in order to be able to \n",
    "# determine the statistical significance of our features using P-values.\n",
    "# The model tells us that building_type and has_online_tour have P-values\n",
    "# well-outside our .05 conventional threshold. Meanwhile, vacancy_level and\n",
    "# photo_quality are both statistically significant and their coefficients\n",
    "# together explain the majority of the relationship with the target.\n",
    "\n",
    "# The caveat here is that our features are mostly categorical, which\n",
    "# should be taken into consideration when explaining the actual relationships.\n",
    "\n",
    "print(log_reg.summary())"
   ]
  },
  {
   "cell_type": "code",
   "execution_count": 38,
   "metadata": {},
   "outputs": [],
   "source": [
    "yhat = log_reg.predict( X_test)\n",
    "prediction = list(map(round, yhat))"
   ]
  },
  {
   "cell_type": "code",
   "execution_count": 39,
   "metadata": {},
   "outputs": [
    {
     "name": "stdout",
     "output_type": "stream",
     "text": [
      "Confusion Matrix : \n",
      " [[394 113]\n",
      " [163 380]]\n",
      "Test accuracy =  0.7371428571428571\n"
     ]
    }
   ],
   "source": [
    "from sklearn.metrics import (confusion_matrix,accuracy_score)\n",
    "\n",
    "# confusion matrix\n",
    "cm = confusion_matrix(y_test, prediction)\n",
    "print (\"Confusion Matrix : \\n\", cm)\n",
    "\n",
    "# accuracy score of the model\n",
    "print('Test accuracy = ', accuracy_score(y_test, prediction))\n"
   ]
  },
  {
   "cell_type": "code",
   "execution_count": 40,
   "metadata": {},
   "outputs": [
    {
     "name": "stdout",
     "output_type": "stream",
     "text": [
      "              precision    recall  f1-score   support\n",
      "\n",
      "           0       0.71      0.78      0.74       507\n",
      "           1       0.77      0.70      0.73       543\n",
      "\n",
      "    accuracy                           0.74      1050\n",
      "   macro avg       0.74      0.74      0.74      1050\n",
      "weighted avg       0.74      0.74      0.74      1050\n",
      "\n"
     ]
    }
   ],
   "source": [
    "# Even though the \"psuedo r-squared\" was pretty terrible,\n",
    "# our model performed fairly well in both precision & recall.\n",
    "# The only thing left to do at this point is to remove the \n",
    "# statistically insignificant features and re-run our model to\n",
    "# see if we can improve it further.\n",
    "\n",
    "from sklearn.metrics import classification_report\n",
    "print(classification_report(y_test,prediction))"
   ]
  },
  {
   "cell_type": "code",
   "execution_count": 41,
   "metadata": {},
   "outputs": [],
   "source": [
    "X1 = df[['vacancy_level','photo_quality']]\n",
    "y1 = df[['lead_volume']]"
   ]
  },
  {
   "cell_type": "code",
   "execution_count": 42,
   "metadata": {},
   "outputs": [
    {
     "name": "stdout",
     "output_type": "stream",
     "text": [
      "Optimization terminated successfully.\n",
      "         Current function value: 0.518486\n",
      "         Iterations 6\n",
      "                           Logit Regression Results                           \n",
      "==============================================================================\n",
      "Dep. Variable:            lead_volume   No. Observations:                 2450\n",
      "Model:                          Logit   Df Residuals:                     2448\n",
      "Method:                           MLE   Df Model:                            1\n",
      "Date:                Fri, 03 Sep 2021   Pseudo R-squ.:                  0.2519\n",
      "Time:                        01:34:34   Log-Likelihood:                -1270.3\n",
      "converged:                       True   LL-Null:                       -1698.0\n",
      "Covariance Type:            nonrobust   LLR p-value:                4.946e-188\n",
      "=================================================================================\n",
      "                    coef    std err          z      P>|z|      [0.025      0.975]\n",
      "---------------------------------------------------------------------------------\n",
      "vacancy_level     1.5361      0.078     19.577      0.000       1.382       1.690\n",
      "photo_quality    -2.4526      0.099    -24.890      0.000      -2.646      -2.259\n",
      "=================================================================================\n"
     ]
    }
   ],
   "source": [
    "X1_train, X1_test, y1_train, y1_test = train_test_split(X1, y1, test_size=0.3, random_state=101)\n",
    "log_reg1 = sm.Logit(y1_train, X1_train).fit()\n",
    "print(log_reg1.summary())"
   ]
  },
  {
   "cell_type": "code",
   "execution_count": 43,
   "metadata": {},
   "outputs": [],
   "source": [
    "yhat1 = log_reg1.predict( X1_test)\n",
    "prediction1 = list(map(round, yhat1))"
   ]
  },
  {
   "cell_type": "code",
   "execution_count": 44,
   "metadata": {},
   "outputs": [
    {
     "name": "stdout",
     "output_type": "stream",
     "text": [
      "Confusion Matrix : \n",
      " [[411  96]\n",
      " [186 357]]\n",
      "Test accuracy =  0.7314285714285714\n"
     ]
    }
   ],
   "source": [
    "# confusion matrix\n",
    "cm = confusion_matrix(y1_test, prediction1)\n",
    "print (\"Confusion Matrix : \\n\", cm)\n",
    "\n",
    "# accuracy score of the model\n",
    "print('Test accuracy = ', accuracy_score(y1_test, prediction1))\n"
   ]
  },
  {
   "cell_type": "code",
   "execution_count": 45,
   "metadata": {},
   "outputs": [
    {
     "name": "stdout",
     "output_type": "stream",
     "text": [
      "              precision    recall  f1-score   support\n",
      "\n",
      "           0       0.69      0.81      0.74       507\n",
      "           1       0.79      0.66      0.72       543\n",
      "\n",
      "    accuracy                           0.73      1050\n",
      "   macro avg       0.74      0.73      0.73      1050\n",
      "weighted avg       0.74      0.73      0.73      1050\n",
      "\n"
     ]
    }
   ],
   "source": [
    "# We can see that removing the two features made our model slightly worse,\n",
    "# invariably due to providing less information\n",
    "\n",
    "print(classification_report(y1_test,prediction1))"
   ]
  },
  {
   "cell_type": "code",
   "execution_count": null,
   "metadata": {},
   "outputs": [],
   "source": []
  }
 ],
 "metadata": {
  "kernelspec": {
   "display_name": "Python 3",
   "language": "python",
   "name": "python3"
  },
  "language_info": {
   "codemirror_mode": {
    "name": "ipython",
    "version": 3
   },
   "file_extension": ".py",
   "mimetype": "text/x-python",
   "name": "python",
   "nbconvert_exporter": "python",
   "pygments_lexer": "ipython3",
   "version": "3.7.7"
  }
 },
 "nbformat": 4,
 "nbformat_minor": 4
}
